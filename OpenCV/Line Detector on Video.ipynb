{
 "cells": [
  {
   "cell_type": "code",
   "execution_count": null,
   "id": "566ce068",
   "metadata": {},
   "outputs": [],
   "source": [
    "from matplotlib import pyplot as plt\n",
    "import numpy as np\n",
    "import cv2\n",
    "\n",
    "# Functions\n",
    "def reg_of_interest(img, vertices):\n",
    "    mask = np.zeros_like(img)\n",
    "    channel_count = 1 #img.shape[2] # not for gray image\n",
    "    match_mask_color = (255,)*channel_count\n",
    "    cv2.fillPoly(mask,vertices,match_mask_color)\n",
    "    masked_image = cv2.bitwise_and(img,mask)\n",
    "    return masked_image\n",
    "\n",
    "def draw_the_lines(img,lines):\n",
    "    img = np.copy(img)\n",
    "    blank_img = np.zeros((img.shape[0], img.shape[1], 3), dtype=np.uint8)\n",
    "    \n",
    "    for line in lines:\n",
    "        for x1,y1,x2,y2 in line:\n",
    "            cv2.line(blank_img, (x1,y1), (x2,y2), (0,0,255), thickness=3)\n",
    "    img = cv2.addWeighted(img, 1, blank_img, 1, 0.0) # merge 2 images\n",
    "    return img\n",
    "\n",
    "def process(img):\n",
    "    #print(img.shape)\n",
    "    #plt.imshow(img)\n",
    "    height = img.shape[0]\n",
    "    width = img.shape[1]\n",
    "\n",
    "    Reg_of_Int_Ver = [(0,height),(width/2,325),(width,height)]\n",
    "    \n",
    "    # Canny Edge Detection\n",
    "    gray = cv2.cvtColor(img, cv2.COLOR_RGB2GRAY)\n",
    "    canny_img = cv2.Canny(gray,100,120)\n",
    "\n",
    "    # Take on Region of Interest\n",
    "    masked_img = reg_of_interest(canny_img,np.array([Reg_of_Int_Ver], np.int32),)\n",
    "    lines = cv2.HoughLinesP(masked_img,rho=2,theta=np.pi/60,threshold=50,lines = np.array([]),minLineLength=40,maxLineGap=100)\n",
    "    img_with_lines = draw_the_lines(img, lines)\n",
    "    return img_with_lines"
   ]
  },
  {
   "cell_type": "code",
   "execution_count": null,
   "id": "48d2fbf8",
   "metadata": {},
   "outputs": [],
   "source": [
    "cap = cv2.VideoCapture('C:/Users/surya/Desktop/Term Project test images and videos/test_videos/solidWhiteRight.mp4')\n",
    "while(cap.isOpened()):\n",
    "    ret, frame = cap.read()\n",
    "    if frame is not None:    \n",
    "        frame = process(frame)\n",
    "        cv2.imshow('frame',frame)\n",
    "    if cv2.waitKey(2) & 0xFF == ord('q'):\n",
    "        break\n",
    "        \n",
    "cap.release()\n",
    "cv2.destroyAllWindows()"
   ]
  },
  {
   "cell_type": "markdown",
   "id": "3edbc4e8",
   "metadata": {},
   "source": [
    "# "
   ]
  },
  {
   "cell_type": "code",
   "execution_count": null,
   "id": "025181e8",
   "metadata": {},
   "outputs": [],
   "source": []
  }
 ],
 "metadata": {
  "kernelspec": {
   "display_name": "Python 3 (ipykernel)",
   "language": "python",
   "name": "python3"
  },
  "language_info": {
   "codemirror_mode": {
    "name": "ipython",
    "version": 3
   },
   "file_extension": ".py",
   "mimetype": "text/x-python",
   "name": "python",
   "nbconvert_exporter": "python",
   "pygments_lexer": "ipython3",
   "version": "3.9.13"
  }
 },
 "nbformat": 4,
 "nbformat_minor": 5
}
