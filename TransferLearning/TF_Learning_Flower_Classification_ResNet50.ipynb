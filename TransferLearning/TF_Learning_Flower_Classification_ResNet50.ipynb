{
  "cells": [
    {
      "cell_type": "code",
      "execution_count": null,
      "metadata": {
        "id": "3mJwIPQMOZm0"
      },
      "outputs": [],
      "source": [
        "# data visualization and manipulation\n",
        "import matplotlib.pyplot as plt\n",
        "import seaborn as sns\n",
        "\n",
        "# model selection \n",
        "from sklearn.model_selection import train_test_split\n",
        "from sklearn.model_selection import KFold\n",
        "from sklearn.metrics import accuracy_score, precision_score, recall_score, confusion_matrix, roc_curve,roc_auc_score, ConfusionMatrixDisplay, classification_report\n",
        "from sklearn.model_selection import GridSearchCV\n",
        "from sklearn.preprocessing import LabelEncoder\n",
        "from sklearn import metrics\n",
        "\n",
        "# preprocess\n",
        "from keras.preprocessing.image import ImageDataGenerator\n",
        "\n",
        "from keras import backend as K\n",
        "from keras.models import Sequential, Model\n",
        "from keras.layers import Dense, Dropout, Flatten, Activation, Conv2D, MaxPooling2D, BatchNormalization\n",
        "from keras.optimizers import Adam, SGD, Adagrad, Adadelta, RMSprop\n",
        "from keras.utils import to_categorical\n",
        "\n",
        "import tensorflow as tf\n",
        "import random as rn\n",
        "\n",
        "import cv2\n",
        "import numpy as np  \n",
        "from tqdm import tqdm\n",
        "import os                   \n",
        "from random import shuffle  \n",
        "from PIL import Image\n",
        "\n",
        "import tensorflow\n",
        "from tensorflow.keras.layers import Dense, Dropout, Flatten, Activation, BatchNormalization,AveragePooling2D, GlobalAveragePooling2D\n",
        "from tensorflow.python.keras.layers.convolutional import Conv2D, MaxPooling2D \n",
        "from tensorflow.keras.optimizers import RMSprop, SGD, Adam\n",
        "from tensorflow.keras.applications.inception_v3 import InceptionV3\n",
        "from keras.applications.vgg19 import VGG19\n",
        "from tensorflow.keras.applications.resnet50 import ResNet50"
      ]
    },
    {
      "cell_type": "code",
      "execution_count": null,
      "metadata": {
        "colab": {
          "base_uri": "https://localhost:8080/"
        },
        "id": "fj8uvulIOjnD",
        "outputId": "c8f1d642-d51e-4eb2-9f81-86e1a457efd9"
      },
      "outputs": [
        {
          "output_type": "stream",
          "name": "stdout",
          "text": [
            "Mounted at /content/drive\n"
          ]
        }
      ],
      "source": [
        "from google.colab import drive\n",
        "drive.mount('/content/drive', force_remount=True)\n",
        "\n",
        "path_daisy = \"drive/MyDrive/flowers/daisy\"\n",
        "path_dandelion = \"drive/MyDrive/flowers/dandelion\"\n",
        "path_rose = \"drive/MyDrive/flowers/rose\"\n",
        "path_sunflower = \"drive/MyDrive/flowers/sunflower\"\n",
        "path_tulip = \"drive/MyDrive/flowers/tulip\""
      ]
    },
    {
      "cell_type": "code",
      "execution_count": null,
      "metadata": {
        "id": "fcSnmXlFOjp9"
      },
      "outputs": [],
      "source": [
        "def assign_label(img, flower_type):\n",
        "    return flower_type\n",
        "\n",
        "def make_train_data(flower_type,DIR):\n",
        "    for img in tqdm(os.listdir(DIR)):\n",
        "        label = assign_label(img,flower_type)\n",
        "        path = os.path.join(DIR,img)\n",
        "        img = cv2.imread(path, cv2.IMREAD_COLOR)\n",
        "        img = cv2.resize(img, (160,160))\n",
        "        \n",
        "        X.append(np.array(img))\n",
        "        Z.append(str(label))"
      ]
    },
    {
      "cell_type": "code",
      "execution_count": null,
      "metadata": {
        "id": "yI_jkDDVOjs4"
      },
      "outputs": [],
      "source": [
        "X = []\n",
        "Z = []\n",
        "\n",
        "make_train_data(\"Daisy\",path_daisy)\n",
        "print(len(X))\n",
        "\n",
        "make_train_data(\"Dandelion\",path_dandelion)\n",
        "print(len(X))\n",
        "\n",
        "make_train_data(\"Rose\",path_rose)\n",
        "print(len(X))\n",
        "\n",
        "make_train_data(\"Sunflower\",path_sunflower)\n",
        "print(len(X))\n",
        "\n",
        "make_train_data(\"Tulip\",path_tulip)\n",
        "print(len(X))"
      ]
    },
    {
      "cell_type": "code",
      "execution_count": null,
      "metadata": {
        "id": "5Ykbo-FBOjvs"
      },
      "outputs": [],
      "source": [
        "# Label Encoding the Y array (i.e. Daisy->0, Rose->1 etc...) & then One Hot Encoding\n",
        "labelEncoder = LabelEncoder()\n",
        "Y = labelEncoder.fit_transform(Z)\n",
        "Y = to_categorical(Y,5)\n",
        "X = np.array(X)\n",
        "X = X/ 255"
      ]
    },
    {
      "cell_type": "code",
      "execution_count": null,
      "metadata": {
        "id": "vNMNU3bKOwk1"
      },
      "outputs": [],
      "source": [
        "x_train, x_test, y_train, y_test, z_train, z_test = train_test_split(X, Y, Z, test_size = 0.2, random_state=42)\n",
        "\n",
        "print(\"x_train shape: \", x_train.shape)\n",
        "print(\"x_test shape: \", x_test.shape)\n",
        "print(\"y_train shape: \", y_train.shape)\n",
        "print(\"y_test shape: \", y_test.shape)"
      ]
    },
    {
      "cell_type": "code",
      "execution_count": null,
      "metadata": {
        "id": "uqdBIiqXOwnb"
      },
      "outputs": [],
      "source": [
        "# data augmentation\n",
        "datagen = ImageDataGenerator(\n",
        "    featurewise_center=False,  # set input mean to 0 over the dataset\n",
        "    samplewise_center=False,   # set each sample mean to 0\n",
        "    featurewise_std_normalization=False,   # divide inputs by std of the dataset\n",
        "    samplewise_std_normalization= False,   # divide each input by its std\n",
        "    zca_whitening=False,   # dimesion reduction\n",
        "    rotation_range=10,    # randomly rotate images in the range 10 degrees\n",
        "    zoom_range=0.1,      # Randomly zoom image 10%\n",
        "    width_shift_range=0.2,   # randomly shift images horizontally 20%\n",
        "    height_shift_range=0.2,   # randomly shift images vertically 20%\n",
        "    horizontal_flip=True,     # randomly flip images\n",
        "    vertical_flip=False    # randomly flip images\n",
        ")\n",
        "datagen.fit(x_train)"
      ]
    },
    {
      "cell_type": "code",
      "execution_count": null,
      "metadata": {
        "id": "9W8x_ASLOwpo"
      },
      "outputs": [],
      "source": [
        "base_model = ResNet50(input_shape = (160,160,3), weights='imagenet', include_top=False)\n",
        "for layer in base_model.layers:\n",
        "        layer.trainable = False\n",
        " \n",
        "# Get base model output \n",
        "base_model_ouput = base_model.output\n",
        "    \n",
        "# Adding our own layer \n",
        "x = GlobalAveragePooling2D()(base_model_ouput)\n",
        "# Adding fully connected layer\n",
        "x = Dense(512, activation='relu')(x)\n",
        "x = Dense(5, activation='softmax', name='fcnew')(x)\n",
        "    \n",
        "model = Model(inputs=base_model.input, outputs=x)\n"
      ]
    },
    {
      "cell_type": "code",
      "execution_count": null,
      "metadata": {
        "id": "aFGngl5sOjyY"
      },
      "outputs": [],
      "source": [
        "# Epochs and Batch Size\n",
        "epochs = 5\n",
        "batch_size = 32\n",
        "\n",
        "# Compiling the Keras Model \n",
        "model.compile(optimizer=Adam(learning_rate=0.01), loss=\"categorical_crossentropy\", metrics = [\"accuracy\"])\n",
        "\n",
        "# summary\n",
        "#model.summary()"
      ]
    },
    {
      "cell_type": "code",
      "execution_count": null,
      "metadata": {
        "id": "TjgU4XpjRlyN",
        "colab": {
          "base_uri": "https://localhost:8080/"
        },
        "outputId": "2fc274ff-50cd-4b38-c8f4-977e2b310318"
      },
      "outputs": [
        {
          "metadata": {
            "tags": null
          },
          "name": "stderr",
          "output_type": "stream",
          "text": [
            "<ipython-input-10-cb3adc43da2b>:5: UserWarning: `Model.fit_generator` is deprecated and will be removed in a future version. Please use `Model.fit`, which supports generators.\n",
            "  history = model.fit_generator(datagen.flow(x_train,y_train, batch_size = batch_size),\n"
          ]
        },
        {
          "output_type": "stream",
          "name": "stdout",
          "text": [
            "Epoch 1/5\n",
            "107/107 [==============================] - 402s 4s/step - loss: 1.7065 - accuracy: 0.2985 - val_loss: 1.5547 - val_accuracy: 0.2743\n",
            "Epoch 2/5\n",
            "107/107 [==============================] - 389s 4s/step - loss: 1.5251 - accuracy: 0.3268 - val_loss: 1.5418 - val_accuracy: 0.3333\n",
            "Epoch 3/5\n",
            "105/107 [============================>.] - ETA: 5s - loss: 1.5211 - accuracy: 0.3363"
          ]
        }
      ],
      "source": [
        "from time import time\n",
        "start = time()\n",
        "\n",
        "# Fitting on the Training set and making predcitons on the Validation set\n",
        "history = model.fit_generator(datagen.flow(x_train,y_train, batch_size = batch_size), \n",
        "                              epochs= epochs, \n",
        "                              validation_data=(x_test,y_test), \n",
        "                              verbose = 1, \n",
        "                              steps_per_epoch=x_train.shape[0] // batch_size)\n",
        "\n",
        "print(\"Time taken to train the Neural Net : \",time()-start)"
      ]
    },
    {
      "cell_type": "code",
      "execution_count": null,
      "metadata": {
        "id": "4r0AgbDDClYF"
      },
      "outputs": [],
      "source": [
        "print(\"MODEL NAME <---> \",model)\n",
        "plt.figure(figsize=(10, 5))\n",
        "  \n",
        "# summarize history for accuracy\n",
        "plt.subplot(1, 2 ,1)\n",
        "plt.plot(history.history[\"accuracy\"])\n",
        "plt.plot(history.history[\"val_accuracy\"])\n",
        "plt.xticks(np.arange(0, epochs+1, epochs/10))\n",
        "plt.title('Training Accuracy vs. Validation Accuracy')\n",
        "plt.xlabel('Num of Epochs')\n",
        "plt.ylabel('Accuracy')\n",
        "plt.legend(['train', 'validation'], loc='best')\n",
        "  \n",
        "plt.subplot(1, 2, 2)\n",
        "plt.plot(history.history[\"loss\"])\n",
        "plt.plot(history.history[\"val_loss\"])\n",
        "plt.xticks(np.arange(0, epochs+1, epochs/10))\n",
        "plt.title('Training Loss vs. Validation Loss')\n",
        "plt.xlabel('Num of Epochs')\n",
        "plt.ylabel('Loss')\n",
        "plt.legend(['train', 'validation'], loc='best')\n",
        "  \n",
        "plt.show()"
      ]
    },
    {
      "cell_type": "code",
      "execution_count": null,
      "metadata": {
        "id": "1qXSLk1TCr4y"
      },
      "outputs": [],
      "source": [
        "predictions = model.predict(x_test)\n",
        "predictions = np.argmax(predictions, axis = -1)\n",
        "predictions = predictions.reshape(1,-1)[0]\n",
        "\n",
        "labelEncoder.fit_transform(z_test)\n",
        "\n",
        "print(metrics.classification_report(labelEncoder.fit_transform(z_test), predictions))\n",
        "\n",
        "print(confusion_matrix(labelEncoder.fit_transform(z_test), predictions))\n",
        "\n",
        "ConfusionMatrixDisplay.from_predictions(labelEncoder.fit_transform(z_test), predictions, cmap=plt.cm.Greens, display_labels=['daisy', 'dandelion', 'rose', 'sunflower', 'tulip'])\n",
        "plt.title('Confusion matrix')\n",
        "plt.show()"
      ]
    }
  ],
  "metadata": {
    "colab": {
      "provenance": []
    },
    "kernelspec": {
      "display_name": "Python 3",
      "name": "python3"
    },
    "language_info": {
      "name": "python"
    },
    "gpuClass": "standard"
  },
  "nbformat": 4,
  "nbformat_minor": 0
}